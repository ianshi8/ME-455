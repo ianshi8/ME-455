{
 "cells": [
  {
   "cell_type": "code",
   "execution_count": 2,
   "metadata": {},
   "outputs": [],
   "source": [
    "import numpy as np\n",
    "import scipy as sp\n",
    "import math\n",
    "import matplotlib.pyplot as plt\n",
    "pi = math.pi"
   ]
  },
  {
   "cell_type": "code",
   "execution_count": 3,
   "metadata": {},
   "outputs": [],
   "source": [
    "#Setup initial forward simulation\n",
    "S_init = np.array([0, 0, pi/2])\n",
    "U = np.array([1, -1/2])\n",
    "P_init = np.array([np.concatenate((S_init, U), axis=None)])\n",
    "\n",
    "#Forward iteration for P0 (semi-circle initial guess)\n",
    "T_STEPS = 100\n",
    "dt = 2*pi/T_STEPS\n",
    "t_array = np.zeros(T_STEPS)\n",
    "for i in range(T_STEPS):\n",
    "    t_array[i] = i*dt\n",
    "\n",
    "P0 = np.zeros((T_STEPS, 5))\n",
    "P0[0] = P_init\n",
    "for i in range(T_STEPS-1):\n",
    "    Sdot = np.array([U[0]*math.cos(P0[i][2]), U[0]*math.sin(P0[i][2]), U[1]])*dt\n",
    "    S_new = P0[i][0:3] + Sdot\n",
    "    P_new = np.array([np.concatenate((S_new, U), axis=None)])\n",
    "    P0[i+1] = P_new\n",
    "#S0 = P0[:,0:3]\n",
    "#S0 = S0.flatten()\n",
    "\n",
    "#Initial reference trajectory (S_bar, unattainable)\n",
    "S_bar = np.zeros((T_STEPS, 3))\n",
    "for i in range(T_STEPS):\n",
    "    S_bar[i] = np.array([4*(i*dt)/(2*pi), 0, pi/2])"
   ]
  },
  {
   "cell_type": "code",
   "execution_count": 29,
   "metadata": {},
   "outputs": [],
   "source": [
    "# GLOBAL DEFNS FOR Q, R, RINV, P1, r1, z0, t\n",
    "Q = np.array([[100, 0 ,0], [0, 100, 0], [0, 0, 1]])\n",
    "R = np.array([[1, 0], [0, 0.1]])\n",
    "Rinv = np.linalg.inv(R)\n",
    "P1 = np.array([[1, 0 ,0], [0, 1, 0], [0, 0, 1]])\n",
    "r1 = np.array([0, 0, 0])\n",
    "z0 = np.array([0, 0, 0])\n",
    "t = np.linspace(0, 2*pi, num = T_STEPS)\n",
    "dt = t[1]"
   ]
  },
  {
   "cell_type": "code",
   "execution_count": 19,
   "metadata": {},
   "outputs": [],
   "source": [
    "# helper functions for descent direcction\n",
    "def euler_P(f, P, A, B, dt):\n",
    "    new_P = P + dt*f(P, A, B)\n",
    "    return new_P\n",
    "\n",
    "def euler_r(f, r, P, A, B, a, b, dt):\n",
    "    new_r = r + dt*f(r, P, A, B, a, b)\n",
    "    return new_r\n",
    "\n",
    "def euler_z(f, z, P, A, B, b, r, dt):\n",
    "    new_z = z + dt*f(z, P, A, B, b, r)\n",
    "    return new_z\n",
    "\n",
    "def Pdot(P, A, B):\n",
    "    return -P@A - A.T@P + P@B@Rinv@B.T@P - Q\n",
    "\n",
    "def rdot(r, P, A, B, a, b):\n",
    "    return -((A-B@Rinv@B.T@P).T)@r - a + P@B@Rinv@b\n",
    "\n",
    "def zdot(z, P, A, B, b, r):\n",
    "    return A@z + B@(-Rinv@B.T@P@z-Rinv@B.T@r-Rinv@b)\n",
    "\n",
    "def f(x, u): # Helper for constraint, returns xdot, ydot, thetadot array\n",
    "    xdot = math.cos(x[2])*u[0]\n",
    "    ydot = math.sin(x[2])*u[0]\n",
    "    thetadot = u[1]\n",
    "    return dt*np.array([xdot, ydot, thetadot])"
   ]
  },
  {
   "cell_type": "code",
   "execution_count": 20,
   "metadata": {},
   "outputs": [],
   "source": [
    "# calculating descent direction function \n",
    "def descent_dir(Traj): # traj is 100x5 vector, returns zeta = (z,v), z, v\n",
    "    Rinv = np.linalg.inv(R)\n",
    "    x = Traj[:,0:3]\n",
    "    u = Traj[:,3:5]\n",
    "    \n",
    "    # calculating A, B matrices\n",
    "    Alist = list()\n",
    "    Blist = list()\n",
    "    for i in range(T_STEPS):\n",
    "        A = np.array([[0, 0, -u[i][0]*math.sin(x[i][2])], [0, 0, u[i][0]*math.cos(x[i][2])], [0, 0, 0]])\n",
    "        B = np.array([[math.cos(x[i][2]), 0], [math.sin(x[i][2]), 0], [0, 1]])\n",
    "        Alist.append(A)\n",
    "        Blist.append(B)\n",
    "\n",
    "    # calculating P matrix\n",
    "    Plist = list()\n",
    "    Plist.append(P1)\n",
    "    for i in range(T_STEPS-1):\n",
    "        newP = euler_P(Pdot, Plist[i], Alist[T_STEPS-1-i], Blist[T_STEPS-1-i], -t[1])\n",
    "        Plist.append(newP)\n",
    "    Plist.reverse()\n",
    "\n",
    "    # calculating a, b, matrix\n",
    "    alist = list()\n",
    "    blist = list()\n",
    "    for i in range(T_STEPS):\n",
    "        a = Q@(x[i]-S_bar[i])\n",
    "        b = R@u[i]\n",
    "        alist.append(a)\n",
    "        blist.append(b)\n",
    "    \n",
    "    # calculating r\n",
    "    rlist = list()\n",
    "    rlist.append(r1)\n",
    "    for i in range(T_STEPS-1):\n",
    "        newr = euler_r(rdot, rlist[i], Plist[T_STEPS-1-i], Alist[T_STEPS-1-i], Blist[T_STEPS-1-i], alist[T_STEPS-1-i], blist[T_STEPS-1-i], -t[1])\n",
    "        rlist.append(newr)\n",
    "\n",
    "    rlist.reverse()\n",
    "    \n",
    "    # calculating z\n",
    "    z = np.zeros([T_STEPS, 3])\n",
    "    z[0] = z0\n",
    "    for i in range(T_STEPS-1):\n",
    "        newz = euler_z(zdot, z[i], Plist[i], Alist[i], Blist[i], blist[i], rlist[i], t[1])\n",
    "        z[i+1]=newz\n",
    "    \n",
    "    # calculating v\n",
    "    v = np.zeros([T_STEPS, 2])\n",
    "    for i in range(T_STEPS):\n",
    "        v[i] = -Rinv@Blist[i].T@Plist[i].T@z[i] - Rinv@Blist[i].T@rlist[i] - Rinv@blist[i]\n",
    "    \n",
    "    zeta = np.hstack([z,v])\n",
    "    return zeta, z, v   \n",
    "    "
   ]
  },
  {
   "cell_type": "code",
   "execution_count": 21,
   "metadata": {},
   "outputs": [],
   "source": [
    "# defining cost function\n",
    "def J(Traj): # input is a (100,5) trajectory, matrix return cost of trajectory\n",
    "    x = Traj[:,0:3]\n",
    "    u = Traj[:,3:5]\n",
    "    sum = 0\n",
    "    for i in range(T_STEPS):\n",
    "        cost = (x[i]-S_bar[i]).T@Q@(x[i]-S_bar[i]) + u[i].T@R@u[i]\n",
    "        sum = sum + cost*dt\n",
    "    term_cost = 0.5*((x[T_STEPS-1]-S_bar[T_STEPS-1]).T@P1@(x[T_STEPS-1]-S_bar[T_STEPS-1]))\n",
    "    total_cost = 0.5*sum + term_cost\n",
    "    return total_cost"
   ]
  },
  {
   "cell_type": "code",
   "execution_count": 22,
   "metadata": {},
   "outputs": [],
   "source": [
    "def DJ(Traj, z, v):\n",
    "    DJ = 0\n",
    "    x = Traj[:,0:3]\n",
    "    u = Traj[:,3:5]\n",
    "    for i in range(T_STEPS):\n",
    "        a = Q@(x[i] - S_bar[i])\n",
    "        b = R@u[i]\n",
    "        new_DJ = (a.T@z[i] + b.T@v[i])*dt\n",
    "        DJ = DJ + new_DJ\n",
    "    DJ = DJ + P1@(x[T_STEPS-1]-S_bar[T_STEPS-1])@z[T_STEPS-1]\n",
    "    return DJ\n"
   ]
  },
  {
   "cell_type": "code",
   "execution_count": 23,
   "metadata": {},
   "outputs": [],
   "source": [
    "# iLQR\n",
    "epsilon = 1e-3\n",
    "alpha = 0.25\n",
    "beta = 0.7\n",
    "gamma = 1\n",
    "\n",
    "zeta, z, v = descent_dir(P0)\n",
    "x = P0[:,0:3]\n",
    "u = P0[:,3:5]\n",
    "\n",
    "J_xi = J(P0)\n",
    "DJ_xi = DJ(P0, z, v)\n",
    "\n",
    "u_plus = u+gamma*v\n",
    "x_plus = np.zeros([100,3])\n",
    "x_plus[0] = x[0]\n",
    "\n",
    "for i in range(T_STEPS-1):\n",
    "    x_plus[i+1]=x_plus[i]+f(x_plus[i], u_plus[i])\n",
    "\n",
    "xi_plus = np.hstack([x_plus, u_plus])\n",
    "\n",
    "J_xiplus = J(xi_plus)\n",
    "n=0\n",
    "\n",
    "while (J_xiplus > J_xi+alpha*gamma*DJ_xi):\n",
    "    u_plus = u+gamma*v\n",
    "    x_plus = np.zeros([100,3])\n",
    "    x_plus[0] = x[0]\n",
    "\n",
    "    for i in range(T_STEPS-1):\n",
    "        x_plus[i+1]=x_plus[i]+f(x_plus[i], u_plus[i])\n",
    "\n",
    "    xi_plus = np.hstack([x_plus, u_plus])\n",
    "\n",
    "    J_xiplus = J(xi_plus)\n",
    "    n = n+1\n",
    "    gamma = beta**n\n",
    "\n",
    "\n",
    "xi = xi_plus\n"
   ]
  },
  {
   "cell_type": "code",
   "execution_count": 24,
   "metadata": {},
   "outputs": [
    {
     "name": "stdout",
     "output_type": "stream",
     "text": [
      "1394.7021855728776\n",
      "470.385062081771\n",
      "78.22676934234055\n",
      "39.49028513638771\n",
      "2.6633407515093097\n",
      "1.1644501992367169\n",
      "0.6129789224268578\n",
      "0.222965937358589\n",
      "0.22118298615691973\n",
      "0.1885252522305469\n",
      "0.1844141717151828\n",
      "0.17654633351344112\n",
      "0.17589678318044916\n",
      "0.18186557028123007\n",
      "0.06019921017559801\n",
      "0.10401204250215446\n",
      "0.03322427006786262\n",
      "0.06660110756681356\n",
      "0.021718018883373585\n",
      "0.04350796446174673\n",
      "0.045189691764634166\n",
      "0.014705180200720014\n",
      "0.03158345003634036\n",
      "0.010079597717197361\n",
      "0.022487816347146496\n",
      "0.007099010079385733\n",
      "0.01599100901504201\n",
      "0.005017260170296075\n",
      "0.011345660742986107\n",
      "0.0035495600339241224\n",
      "0.008026827268646513\n",
      "0.0025117958188629417\n",
      "0.00566263836010429\n",
      "0.0017771587083719623\n",
      "0.003984342596287648\n",
      "0.0012570140250658735\n",
      "0.0027970711654899567\n"
     ]
    }
   ],
   "source": [
    "while (abs(DJ_xi) > epsilon):\n",
    "    gamma = 1\n",
    "    print(abs(DJ_xi))\n",
    "    zeta, z, v = descent_dir(xi)\n",
    "    x = xi[:,0:3]\n",
    "    u = xi[:,3:5]\n",
    "\n",
    "    J_xi = J(xi)\n",
    "    DJ_xi = DJ(xi, z, v)\n",
    "\n",
    "    u_plus = u+gamma*v\n",
    "    x_plus = np.zeros([100,3])\n",
    "    x_plus[0] = x[0]\n",
    "\n",
    "    for i in range(T_STEPS-1):\n",
    "        x_plus[i+1]=x_plus[i]+f(x_plus[i], u_plus[i])\n",
    "\n",
    "    xi_plus = np.hstack([x_plus, u_plus])\n",
    "\n",
    "    J_xiplus = J(xi_plus)\n",
    "    n=0\n",
    "\n",
    "    while (J_xiplus > J_xi+alpha*gamma*DJ_xi):\n",
    "        u_plus = u+gamma*v\n",
    "        x_plus = np.zeros([100,3])\n",
    "        x_plus[0] = x[0]\n",
    "\n",
    "        for i in range(T_STEPS-1):\n",
    "            x_plus[i+1]=x_plus[i]+f(x_plus[i], u_plus[i])\n",
    "\n",
    "        xi_plus = np.hstack([x_plus, u_plus])\n",
    "\n",
    "        J_xiplus = J(xi_plus)\n",
    "        n = n+1\n",
    "        gamma = beta**n\n",
    "\n",
    "\n",
    "    xi = xi_plus"
   ]
  },
  {
   "cell_type": "code",
   "execution_count": 25,
   "metadata": {},
   "outputs": [
    {
     "data": {
      "text/plain": [
       "<matplotlib.legend.Legend at 0x119204f10>"
      ]
     },
     "execution_count": 25,
     "metadata": {},
     "output_type": "execute_result"
    },
    {
     "data": {
      "image/png": "[encoded data removed]",
      "text/plain": [
       "<Figure size 640x480 with 1 Axes>"
      ]
     },
     "metadata": {},
     "output_type": "display_data"
    }
   ],
   "source": [
    "plt.plot(P0[:,0], P0[:,1], label = 'original trajectory')\n",
    "plt.plot(xi[:,0], xi[:,1], label = 'optimized trajectory')\n",
    "plt.title(\"Original Trajectory vs Optimized Trajectory\")\n",
    "plt.legend(loc = 1)\n",
    "#plt.plot(t, xi[:,1], label = 'x(t)')\n",
    "#plt.plot(t, xi[:,2], label = 'x(t)')\n",
    "#plt.plot(t, xi[:,3], label = 'x(t)')\n",
    "#plt.plot(t, xi[:,4], label = 'x(t)')\n"
   ]
  },
  {
   "cell_type": "code",
   "execution_count": 26,
   "metadata": {},
   "outputs": [
    {
     "data": {
      "text/plain": [
       "<matplotlib.legend.Legend at 0x119368ca0>"
      ]
     },
     "execution_count": 26,
     "metadata": {},
     "output_type": "execute_result"
    },
    {
     "data": {
      "image/png": "[encoded data removed]",
      "text/plain": [
       "<Figure size 640x480 with 1 Axes>"
      ]
     },
     "metadata": {},
     "output_type": "display_data"
    }
   ],
   "source": [
    "plt.plot(t, P0[:,3], label = \"initial u1\")\n",
    "plt.plot(t, P0[:,4], label = \"initial u2\")\n",
    "plt.plot(t, xi[:,3], label = 'optimized u1')\n",
    "plt.plot(t, xi[:,4], label = 'optimized u2')\n",
    "plt.title(\"Original Controls vs Optimized Controls\")\n",
    "plt.legend()"
   ]
  },
  {
   "cell_type": "code",
   "execution_count": 30,
   "metadata": {},
   "outputs": [
    {
     "data": {
      "text/plain": [
       "707.8221441851915"
      ]
     },
     "execution_count": 30,
     "metadata": {},
     "output_type": "execute_result"
    }
   ],
   "source": [
    "J(P0)"
   ]
  },
  {
   "cell_type": "code",
   "execution_count": 31,
   "metadata": {},
   "outputs": [
    {
     "data": {
      "text/plain": [
       "-0.012797224991500492"
      ]
     },
     "execution_count": 31,
     "metadata": {},
     "output_type": "execute_result"
    }
   ],
   "source": [
    "DJ(P0, z, v)"
   ]
  },
  {
   "cell_type": "code",
   "execution_count": null,
   "metadata": {},
   "outputs": [],
   "source": []
  }
 ],
 "metadata": {
  "kernelspec": {
   "display_name": "Python 3",
   "language": "python",
   "name": "python3"
  },
  "language_info": {
   "codemirror_mode": {
    "name": "ipython",
    "version": 3
   },
   "file_extension": ".py",
   "mimetype": "text/x-python",
   "name": "python",
   "nbconvert_exporter": "python",
   "pygments_lexer": "ipython3",
   "version": "3.10.7"
  },
  "orig_nbformat": 4
 },
 "nbformat": 4,
 "nbformat_minor": 2
}
